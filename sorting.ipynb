{
  "nbformat": 4,
  "nbformat_minor": 0,
  "metadata": {
    "colab": {
      "private_outputs": true,
      "provenance": [],
      "authorship_tag": "ABX9TyMPAvk8cgmOBUvkvOROjqO3",
      "include_colab_link": true
    },
    "kernelspec": {
      "name": "python3",
      "display_name": "Python 3"
    },
    "language_info": {
      "name": "python"
    }
  },
  "cells": [
    {
      "cell_type": "markdown",
      "metadata": {
        "id": "view-in-github",
        "colab_type": "text"
      },
      "source": [
        "<a href=\"https://colab.research.google.com/github/adrianyang2012/sorting-compare-speeds/blob/main/sorting.ipynb\" target=\"_parent\"><img src=\"https://colab.research.google.com/assets/colab-badge.svg\" alt=\"Open In Colab\"/></a>"
      ]
    },
    {
      "cell_type": "code",
      "execution_count": null,
      "metadata": {
        "id": "F0Ko8IHubom0"
      },
      "outputs": [],
      "source": [
        "\n",
        "import random\n",
        "import matplotlib.pyplot as plt\n",
        "import math\n",
        "from timeit import default_timer as timer\n",
        "def min_sort(li):\n",
        "  new_li = []\n",
        "  while li:\n",
        "    new_li.append(min(li))\n",
        "    li.remove(min(li))\n",
        "  return new_li\n",
        "def quick_sort(li):\n",
        "  if len(li) < 2:\n",
        "    try:\n",
        "      return li[0]\n",
        "    except:\n",
        "      return []\n",
        "  else:\n",
        "    choose = min(li)\n",
        "    sort_1 = [l for l in li if choose < l]\n",
        "    sort_2 = [l for l in li if choose >= l]\n",
        "    print(li)\n",
        "    print(sort_1,sort_2)\n",
        "    return [quick_sort(sort_2),quick_sort(sort_1)]\n"
      ]
    },
    {
      "cell_type": "code",
      "source": [
        "sort_1s = []\n",
        "their_sorts = []\n",
        "quick_sorts = []\n",
        "for i in range(1,1000):\n",
        "  rand_list = [random.randint(0,100) for i in range(0,i)]\n",
        "  s = timer()\n",
        "  x = min_sort(rand_list)\n",
        "  e = timer()\n",
        "  sort_1s.append(e-s)\n",
        "  s = timer()\n",
        "  y = sorted(rand_list)\n",
        "  e = timer()\n",
        "  their_sorts.append(e-s)\n",
        "  s = timer()\n",
        "  z = quick_sort(rand_list)\n",
        "  e = timer()\n",
        "  quick_sorts.append(e-s)\n",
        "plt.plot([math.log(sort_1) for sort_1 in sort_1s])\n",
        "plt.plot([math.log(sorts) for sorts in their_sorts])\n",
        "plt.plot([math.log(quicks) for quicks in quick_sorts])"
      ],
      "metadata": {
        "id": "QVjfRNMzKQSf"
      },
      "execution_count": null,
      "outputs": []
    },
    {
      "cell_type": "markdown",
      "source": [],
      "metadata": {
        "id": "MN5zbkxggMUq"
      }
    }
  ]
}